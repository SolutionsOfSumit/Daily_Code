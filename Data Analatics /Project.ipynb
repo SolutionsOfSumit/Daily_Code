{
 "cells": [
  {
   "cell_type": "code",
   "execution_count": 10,
   "id": "34905dbd",
   "metadata": {},
   "outputs": [
    {
     "name": "stdout",
     "output_type": "stream",
     "text": [
      "0     Singapore\n",
      "1     Australia\n",
      "2         India\n",
      "3         India\n",
      "4     Australia\n",
      "5        France\n",
      "6           UAE\n",
      "7       Germany\n",
      "8     Australia\n",
      "9           UAE\n",
      "10      Germany\n",
      "11    Australia\n",
      "12       Canada\n",
      "13          UAE\n",
      "14           UK\n",
      "15       France\n",
      "16          UAE\n",
      "17    Australia\n",
      "18        India\n",
      "19        Japan\n",
      "20       Canada\n",
      "21        Japan\n",
      "22          UAE\n",
      "23    Singapore\n",
      "24    Singapore\n",
      "25        Japan\n",
      "26        India\n",
      "27        India\n",
      "28        India\n",
      "29          USA\n",
      "30        Japan\n",
      "31          USA\n",
      "32    Singapore\n",
      "33           UK\n",
      "34      Germany\n",
      "35        India\n",
      "36       France\n",
      "37        Japan\n",
      "38        Japan\n",
      "39        Japan\n",
      "40       France\n",
      "41       France\n",
      "42    Australia\n",
      "43        Japan\n",
      "44          UAE\n",
      "45    Singapore\n",
      "46        India\n",
      "47        India\n",
      "48          USA\n",
      "49    Australia\n",
      "50        Japan\n",
      "51        India\n",
      "52          USA\n",
      "53    Australia\n",
      "54          UAE\n",
      "55          UAE\n",
      "56    Australia\n",
      "57      Germany\n",
      "58    Singapore\n",
      "59          UAE\n",
      "Name: Country, dtype: object\n"
     ]
    }
   ],
   "source": [
    "import pandas as pd\n",
    "\n",
    "df = pd.read_excel('it_company_dataset_with_summary.xlsx')\n",
    "\n",
    "# Print the first row\n",
    "print(df[\"Country\"])\n"
   ]
  }
 ],
 "metadata": {
  "kernelspec": {
   "display_name": "base",
   "language": "python",
   "name": "python3"
  },
  "language_info": {
   "codemirror_mode": {
    "name": "ipython",
    "version": 3
   },
   "file_extension": ".py",
   "mimetype": "text/x-python",
   "name": "python",
   "nbconvert_exporter": "python",
   "pygments_lexer": "ipython3",
   "version": "3.13.5"
  }
 },
 "nbformat": 4,
 "nbformat_minor": 5
}
